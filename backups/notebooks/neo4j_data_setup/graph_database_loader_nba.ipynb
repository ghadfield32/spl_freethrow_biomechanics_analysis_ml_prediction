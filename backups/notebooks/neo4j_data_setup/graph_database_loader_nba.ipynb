import pandas as pd
from neo4j import GraphDatabase, basic_auth
import numpy as np

# Create a Neo4j driver using the Aura connection details and add connection success check
try:
    driver = GraphDatabase.driver(uri, auth=(username, password))
    driver.verify_connectivity()  # This will check if the connection is successful
    print("Successfully connected to Neo4j!")
except Exception as e:
    print(f"Failed to connect to Neo4j: {e}")


# Function to create constraints only if they don't already exist
def create_constraint_if_not_exists(session, constraint_query, constraint_name):
    try:
        check_query = f"SHOW CONSTRAINTS WHERE name = '{constraint_name}'"
        result = session.run(check_query)
        if result.single():
            print(f"Constraint '{constraint_name}' already exists.")
        else:
            session.run(constraint_query)
            print(f"Successfully created constraint: {constraint_name}")
    except Exception as e:
        print(f"Failed to create constraint: {constraint_name}. Error: {e}")


# Function to delete duplicate nodes before creating uniqueness constraints
def delete_duplicate_nodes(session, label, property_name):
    print(f"Deleting duplicate nodes for {label} based on {property_name}...")
    delete_query = f"""
    MATCH (n:{label})
    WITH n.{property_name} AS prop, COLLECT(n) AS nodes
    WHERE SIZE(nodes) > 1
    UNWIND TAIL(nodes) AS duplicateNode
    DETACH DELETE duplicateNode
    """
    session.run(delete_query)
    print(f"Duplicate nodes deleted for {label} based on {property_name}.")


# Setup schema with constraints and cleanup
def setup_schema_with_cleanup(session):
    constraints = [
        {"query": "CREATE CONSTRAINT player_name_unique FOR (p:Player) REQUIRE p.name IS UNIQUE", "name": "player_name_unique"},
        {"query": "CREATE CONSTRAINT team_name_unique FOR (t:Team) REQUIRE t.name IS UNIQUE", "name": "team_name_unique"},
        {"query": "CREATE CONSTRAINT season_name_unique FOR (s:Season) REQUIRE s.name IS UNIQUE", "name": "season_name_unique"},
        {"query": "CREATE CONSTRAINT position_name_unique FOR (pos:Position) REQUIRE pos.name IS UNIQUE", "name": "position_name_unique"},
        # Modify the constraint for Contract nodes to be based on multiple properties
        {"query": "CREATE CONSTRAINT contract_unique FOR (c:Contract) REQUIRE (c.salary, c.player_name, c.season) IS UNIQUE", "name": "contract_unique"},
    ]

    cleanup_mappings = [
        {"label": "Player", "property": "name"},
        {"label": "Team", "property": "name"},
        {"label": "Season", "property": "name"},
        {"label": "Position", "property": "name"},
        {"label": "Contract", "property": "salary"}
    ]

    for mapping in cleanup_mappings:
        delete_duplicate_nodes(session, mapping["label"], mapping["property"])

    for constraint in constraints:
        create_constraint_if_not_exists(session, constraint["query"], constraint["name"])


def create_player_node(tx, player_data):
    query = """
    MERGE (p:Player {name: $name})
    ON CREATE SET p.age = $age,
                  p.position = $position,
                  p.years_of_service = $years_of_service,
                  p.injury_risk = $injury_risk,
                  p.season_salary = $salary,
                  p.season = $season,
                  p.per = $per,
                  p.ws = $ws,
                  p.bpm = $bpm,
                  p.vorp = $vorp
    """
    tx.run(query,
           name=player_data["Player"],
           age=player_data["Age"],
           position=player_data["Position"],
           years_of_service=player_data["Years of Service"],
           injury_risk=player_data["Injury_Risk"],
           salary=player_data["Salary"],
           season=player_data["Season"],
           per=player_data.get("PER"),
           ws=player_data.get("WS"),
           bpm=player_data.get("BPM"),
           vorp=player_data.get("VORP"))


def create_team_node(tx, team_name, team_id, team_data):
    query = """
    MERGE (t:Team {name: $name})
    ON CREATE SET t.team_id = $team_id,
                  t.needs = $needs,
                  t.strategy = $strategy,
                  t.cap_space = $cap_space
    """
    tx.run(query,
           name=team_name,
           team_id=team_id,
           needs=team_data.get("Needs"),
           strategy=team_data.get("Strategy"),
           cap_space=team_data.get("Cap Space"))


def create_season_node(tx, season):
    query = """
    MERGE (s:Season {name: $season})
    """
    tx.run(query, season=season)


def create_position_node(tx, position):
    query = """
    MERGE (pos:Position {name: $position})
    """
    tx.run(query, position=position)


def create_contract_node(tx, contract_data):
    query = """
    MERGE (c:Contract {player_name: $player_name, season: $season})
    ON CREATE SET c.salary = $salary,
                  c.cap = $cap,
                  c.luxury_tax = $luxury_tax,
                  c.duration = $duration,
                  c.player_option = $player_option,
                  c.team_option = $team_option,
                  c.no_trade_clause = $no_trade_clause
    """
    tx.run(query,
           player_name=contract_data["Player"],
           season=contract_data["Season"],
           salary=contract_data["Salary"],
           cap=contract_data["Salary Cap"],
           luxury_tax=contract_data["Luxury Tax"],
           duration=contract_data.get("Contract Duration"),
           player_option=contract_data.get("Player Option"),
           team_option=contract_data.get("Team Option"),
           no_trade_clause=contract_data.get("No Trade Clause"))


def delete_duplicate_contract_nodes(session):
    delete_query = """
    MATCH (c:Contract)
    WITH c.salary AS salary, c.player_name AS player_name, c.season AS season, COLLECT(c) AS contracts
    WHERE SIZE(contracts) > 1
    UNWIND TAIL(contracts) AS duplicateContract
    DETACH DELETE duplicateContract
    """
    session.run(delete_query)
    print("Duplicate Contract nodes deleted based on salary, player_name, and season.")


def create_statistics_node(tx, player_name, stats_data):
    query = """
    MERGE (stat:Statistics {player: $player, season: $season, ppg: $pts, assists: $ast, rebounds: $rebounds, 
                            per: $per, ws: $ws, bpm: $bpm, vorp: $vorp})
    """
    tx.run(query, player=player_name, season=stats_data["Season"], pts=stats_data["PTS"], 
           ast=stats_data["AST"], rebounds=stats_data["TRB"], per=stats_data["PER"], 
           ws=stats_data["WS"], bpm=stats_data["BPM"], vorp=stats_data["VORP"])


def create_injury_node(tx, player_name, injury_data):
    if pd.isna(injury_data["Total_Days_Injured"]) or pd.isna(injury_data["Injury_Periods"]) or pd.isna(injury_data["Injury_Risk"]):
        return
    query = """
    MERGE (i:Injury {player: $player})
    ON CREATE SET i.total_days = $total_days,
                  i.injury_periods = $injury_periods,
                  i.risk = $risk,
                  i.injury_history = $injury_history
    """
    tx.run(query,
           player=player_name,
           total_days=injury_data["Total_Days_Injured"],
           injury_periods=injury_data["Injury_Periods"],
           risk=injury_data["Injury_Risk"],
           injury_history=injury_data.get("Injury_History"))


def create_relationships(tx, player_data):
    """
    Create relationships between Player, Team, Season, Contract, and other nodes in the database.
    """
    # Player -> Team (Played for Team in a specific season)
    query = """
    MATCH (p:Player {name: $player}), (t:Team {name: $team}), (s:Season {name: $season})
    MERGE (p)-[:HAS_PLAYED_FOR {season: $season}]->(t)
    MERGE (p)-[:PARTICIPATED_IN]->(s)
    """
    tx.run(query, player=player_data["Player"], team=player_data["Team"], season=player_data["Season"])

    # Player -> Contract (Has Contract in a specific season)
    query = """
    MATCH (p:Player {name: $player}), (c:Contract {salary: $salary, season: $season})
    MERGE (p)-[:HAS_CONTRACT {season: $season}]->(c)
    """
    tx.run(query, player=player_data["Player"], salary=player_data["Salary"], season=player_data["Season"])

    # Player -> Statistics (Possesses Statistics in a specific season)
    query = """
    MATCH (p:Player {name: $player}), (stat:Statistics {player: $player, season: $season})
    MERGE (p)-[:POSSESSES {season: $season}]->(stat)
    """
    tx.run(query, player=player_data["Player"], season=player_data["Season"])

    # Player -> Injury (Suffered Injury, if applicable)
    if not pd.isna(player_data["Injured"]) and player_data["Injured"]:
        query = """
        MATCH (p:Player {name: $player}), (i:Injury {player: $player})
        MERGE (p)-[:SUFFERED {season: $season}]->(i)
        """
        tx.run(query, player=player_data["Player"], season=player_data["Season"])

    # Team -> Player (Current roster or traded player)
    query = """
    MATCH (p:Player {name: $player}), (t:Team {name: $team})
    MERGE (t)-[:HAS_PLAYER {season: $season, role: 'Current Roster'}]->(p)
    """
    tx.run(query, player=player_data["Player"], team=player_data["Team"], season=player_data["Season"])

    # Establish relationship for the player's current team
    query = """
    MATCH (p:Player {name: $player}), (t:Team {name: $team})
    MERGE (t)-[:CURRENT_TEAM {season: $season}]->(p)
    """
    tx.run(query, player=player_data["Player"], team=player_data["Team"], season=player_data["Season"])

    print(f"Relationships created for Player: {player_data['Player']} for season: {player_data['Season']}.")


def calculate_and_set_trade_value(tx, player_name):
    # Placeholder for actual calculation logic
    trade_value = 0  # Replace with real calculation if needed
    query = """
    MATCH (p:Player {name: $player})
    SET p.trade_value = $trade_value
    """
    tx.run(query, player=player_name, trade_value=trade_value)


# Example query to check indexes
def check_indexes(session):
    result = session.run("CALL db.indexes")
    for record in result:
        print(record)


def clear_database(session):
    delete_query = "MATCH (n) DETACH DELETE n"
    session.run(delete_query)
    print("All nodes and relationships deleted from the database.")


# Function to clear all constraints and indexes from the database
def clear_constraints_and_indexes(session):
    # Delete all constraints using SHOW CONSTRAINTS
    delete_constraints_query = "SHOW CONSTRAINTS"
    constraints_result = session.run(delete_constraints_query)
    for record in constraints_result:
        constraint_name = record['name']
        drop_constraint_query = f"DROP CONSTRAINT {constraint_name}"
        session.run(drop_constraint_query)
        print(f"Constraint '{constraint_name}' has been deleted.")

    # Delete all indexes using SHOW INDEXES
    delete_indexes_query = "SHOW INDEXES"
    indexes_result = session.run(delete_indexes_query)
    for record in indexes_result:
        index_name = record['name']
        drop_index_query = f"DROP INDEX {index_name}"
        session.run(drop_index_query)
        print(f"Index '{index_name}' has been deleted.")


# Function to create indexes if they don't already exist
def create_index_if_not_exists(session, index_query, index_name):
    try:
        check_query = f"SHOW INDEXES WHERE name = '{index_name}'"
        result = session.run(check_query)
        if result.single():
            print(f"Index '{index_name}' already exists.")
        else:
            session.run(index_query)
            print(f"Successfully created index: {index_name}")
    except Exception as e:
        print(f"Failed to create index: {index_name}. Error: {e}")


# Function to set up indexes
def setup_indexes(session):
    indexes = [
        {"query": "CREATE INDEX player_name_index IF NOT EXISTS FOR (p:Player) ON (p.name)", "name": "player_name_index"},
        {"query": "CREATE INDEX team_name_index IF NOT EXISTS FOR (t:Team) ON (t.name)", "name": "team_name_index"},
        {"query": "CREATE INDEX contract_season_index IF NOT EXISTS FOR (c:Contract) ON (c.season)", "name": "contract_season_index"}
    ]

    for index in indexes:
        create_index_if_not_exists(session, index["query"], index["name"])


# Function to insert data into Neo4j
def insert_enhanced_data(tx, player_data):
    create_player_node(tx, player_data)
    create_team_node(tx, player_data["Team"], player_data["TeamID"], player_data)
    create_season_node(tx, player_data["Season"])
    create_contract_node(tx, player_data)
    create_statistics_node(tx, player_data["Player"], player_data)
    create_injury_node(tx, player_data["Player"], player_data)
    create_relationships(tx, player_data)


# Convert DataFrame to a list of dictionaries
data_dicts = nba_player_inflated_data_cleaned.to_dict(orient='records')

# Execute schema setup and data insertion
with driver.session() as session:
    # Clear the database
    clear_database(session)
    clear_constraints_and_indexes(session)
    
    # Setup schema, constraints, and indexes
    setup_schema_with_cleanup(session)
    setup_indexes(session)
    
    # Insert data
    for player_data in data_dicts:
        session.execute_write(insert_enhanced_data, player_data)
        # Calculate and set trade value
        session.execute_write(calculate_and_set_trade_value, player_data["Player"])

print("Data reinserted into a clean Neo4j database with indexes and enhancements.")
